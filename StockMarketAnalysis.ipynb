{
 "cells": [
  {
   "cell_type": "markdown",
   "id": "1a193a26-ca98-4584-9aa9-f1075b17ca51",
   "metadata": {},
   "source": [
    "## Importing Necessary Libraries"
   ]
  },
  {
   "cell_type": "code",
   "execution_count": 1,
   "id": "4d9b6769-2767-4309-973d-857efc84dffb",
   "metadata": {},
   "outputs": [],
   "source": [
    "import numpy as np\n",
    "import pandas as pd\n",
    "import matplotlib.pyplot as plt\n",
    "import seaborn as sns\n",
    "\n",
    "#pd.set_option('display.max_columns', None)\n",
    "#pd.set_option('display.max_rows', None)\n",
    "from sklearn.linear_model import LogisticRegression\n",
    "from sklearn.metrics import accuracy_score"
   ]
  },
  {
   "cell_type": "code",
   "execution_count": 2,
   "id": "8b96a838-b4c2-4af3-b30d-fed36b8f8345",
   "metadata": {},
   "outputs": [],
   "source": [
    "data = pd.read_csv('infolimpioavanzadoTarget.csv')"
   ]
  },
  {
   "cell_type": "code",
   "execution_count": 3,
   "id": "102c8ea6-907d-490e-bb5f-9341af31d962",
   "metadata": {},
   "outputs": [],
   "source": [
    "df = data.copy()"
   ]
  },
  {
   "cell_type": "code",
   "execution_count": 4,
   "id": "1709620b-b9dd-4a31-9e13-0b3a1aca741b",
   "metadata": {},
   "outputs": [
    {
     "data": {
      "text/plain": [
       "(7781, 1285)"
      ]
     },
     "execution_count": 4,
     "metadata": {},
     "output_type": "execute_result"
    }
   ],
   "source": [
    "df.shape"
   ]
  },
  {
   "cell_type": "code",
   "execution_count": 5,
   "id": "0dcbbfe6-83d8-4143-8b09-ce546f575b6a",
   "metadata": {},
   "outputs": [
    {
     "data": {
      "text/html": [
       "<div>\n",
       "<style scoped>\n",
       "    .dataframe tbody tr th:only-of-type {\n",
       "        vertical-align: middle;\n",
       "    }\n",
       "\n",
       "    .dataframe tbody tr th {\n",
       "        vertical-align: top;\n",
       "    }\n",
       "\n",
       "    .dataframe thead th {\n",
       "        text-align: right;\n",
       "    }\n",
       "</style>\n",
       "<table border=\"1\" class=\"dataframe\">\n",
       "  <thead>\n",
       "    <tr style=\"text-align: right;\">\n",
       "      <th></th>\n",
       "      <th>date</th>\n",
       "      <th>open</th>\n",
       "      <th>high</th>\n",
       "      <th>low</th>\n",
       "      <th>close</th>\n",
       "      <th>adjclose</th>\n",
       "      <th>volume</th>\n",
       "      <th>ticker</th>\n",
       "      <th>RSIadjclose15</th>\n",
       "      <th>RSIvolume15</th>\n",
       "      <th>...</th>\n",
       "      <th>high-15</th>\n",
       "      <th>K-15</th>\n",
       "      <th>D-15</th>\n",
       "      <th>stochastic-k-15</th>\n",
       "      <th>stochastic-d-15</th>\n",
       "      <th>stochastic-kd-15</th>\n",
       "      <th>volumenrelativo</th>\n",
       "      <th>diff</th>\n",
       "      <th>INCREMENTO</th>\n",
       "      <th>TARGET</th>\n",
       "    </tr>\n",
       "  </thead>\n",
       "  <tbody>\n",
       "    <tr>\n",
       "      <th>0</th>\n",
       "      <td>2022-01-03</td>\n",
       "      <td>17.799999</td>\n",
       "      <td>18.219000</td>\n",
       "      <td>17.500000</td>\n",
       "      <td>17.760000</td>\n",
       "      <td>17.760000</td>\n",
       "      <td>106600</td>\n",
       "      <td>ASLE</td>\n",
       "      <td>NaN</td>\n",
       "      <td>NaN</td>\n",
       "      <td>...</td>\n",
       "      <td>NaN</td>\n",
       "      <td>NaN</td>\n",
       "      <td>NaN</td>\n",
       "      <td>NaN</td>\n",
       "      <td>NaN</td>\n",
       "      <td>NaN</td>\n",
       "      <td>0.919758</td>\n",
       "      <td>-1.900001</td>\n",
       "      <td>-9.664295</td>\n",
       "      <td>0</td>\n",
       "    </tr>\n",
       "    <tr>\n",
       "      <th>1</th>\n",
       "      <td>2022-01-04</td>\n",
       "      <td>17.700001</td>\n",
       "      <td>18.309999</td>\n",
       "      <td>17.620001</td>\n",
       "      <td>17.660000</td>\n",
       "      <td>17.660000</td>\n",
       "      <td>128700</td>\n",
       "      <td>ASLE</td>\n",
       "      <td>NaN</td>\n",
       "      <td>NaN</td>\n",
       "      <td>...</td>\n",
       "      <td>NaN</td>\n",
       "      <td>NaN</td>\n",
       "      <td>NaN</td>\n",
       "      <td>NaN</td>\n",
       "      <td>NaN</td>\n",
       "      <td>NaN</td>\n",
       "      <td>1.110440</td>\n",
       "      <td>-1.379999</td>\n",
       "      <td>-7.247895</td>\n",
       "      <td>0</td>\n",
       "    </tr>\n",
       "    <tr>\n",
       "      <th>2</th>\n",
       "      <td>2022-01-05</td>\n",
       "      <td>17.580000</td>\n",
       "      <td>17.799999</td>\n",
       "      <td>16.910000</td>\n",
       "      <td>16.950001</td>\n",
       "      <td>16.950001</td>\n",
       "      <td>103100</td>\n",
       "      <td>ASLE</td>\n",
       "      <td>NaN</td>\n",
       "      <td>NaN</td>\n",
       "      <td>...</td>\n",
       "      <td>NaN</td>\n",
       "      <td>NaN</td>\n",
       "      <td>NaN</td>\n",
       "      <td>NaN</td>\n",
       "      <td>NaN</td>\n",
       "      <td>NaN</td>\n",
       "      <td>0.889560</td>\n",
       "      <td>-0.930000</td>\n",
       "      <td>-5.201344</td>\n",
       "      <td>0</td>\n",
       "    </tr>\n",
       "    <tr>\n",
       "      <th>3</th>\n",
       "      <td>2022-01-06</td>\n",
       "      <td>16.650000</td>\n",
       "      <td>16.879999</td>\n",
       "      <td>16.139999</td>\n",
       "      <td>16.170000</td>\n",
       "      <td>16.170000</td>\n",
       "      <td>173600</td>\n",
       "      <td>ASLE</td>\n",
       "      <td>NaN</td>\n",
       "      <td>NaN</td>\n",
       "      <td>...</td>\n",
       "      <td>NaN</td>\n",
       "      <td>NaN</td>\n",
       "      <td>NaN</td>\n",
       "      <td>NaN</td>\n",
       "      <td>NaN</td>\n",
       "      <td>NaN</td>\n",
       "      <td>1.497843</td>\n",
       "      <td>-0.360000</td>\n",
       "      <td>-2.177856</td>\n",
       "      <td>0</td>\n",
       "    </tr>\n",
       "    <tr>\n",
       "      <th>4</th>\n",
       "      <td>2022-01-07</td>\n",
       "      <td>16.219999</td>\n",
       "      <td>16.290001</td>\n",
       "      <td>15.630000</td>\n",
       "      <td>15.710000</td>\n",
       "      <td>15.710000</td>\n",
       "      <td>137800</td>\n",
       "      <td>ASLE</td>\n",
       "      <td>NaN</td>\n",
       "      <td>NaN</td>\n",
       "      <td>...</td>\n",
       "      <td>NaN</td>\n",
       "      <td>NaN</td>\n",
       "      <td>NaN</td>\n",
       "      <td>NaN</td>\n",
       "      <td>NaN</td>\n",
       "      <td>NaN</td>\n",
       "      <td>1.188956</td>\n",
       "      <td>-0.120000</td>\n",
       "      <td>-0.758054</td>\n",
       "      <td>0</td>\n",
       "    </tr>\n",
       "  </tbody>\n",
       "</table>\n",
       "<p>5 rows × 1285 columns</p>\n",
       "</div>"
      ],
      "text/plain": [
       "         date       open       high        low      close   adjclose  volume  \\\n",
       "0  2022-01-03  17.799999  18.219000  17.500000  17.760000  17.760000  106600   \n",
       "1  2022-01-04  17.700001  18.309999  17.620001  17.660000  17.660000  128700   \n",
       "2  2022-01-05  17.580000  17.799999  16.910000  16.950001  16.950001  103100   \n",
       "3  2022-01-06  16.650000  16.879999  16.139999  16.170000  16.170000  173600   \n",
       "4  2022-01-07  16.219999  16.290001  15.630000  15.710000  15.710000  137800   \n",
       "\n",
       "  ticker  RSIadjclose15  RSIvolume15  ...  high-15  K-15  D-15  \\\n",
       "0   ASLE            NaN          NaN  ...      NaN   NaN   NaN   \n",
       "1   ASLE            NaN          NaN  ...      NaN   NaN   NaN   \n",
       "2   ASLE            NaN          NaN  ...      NaN   NaN   NaN   \n",
       "3   ASLE            NaN          NaN  ...      NaN   NaN   NaN   \n",
       "4   ASLE            NaN          NaN  ...      NaN   NaN   NaN   \n",
       "\n",
       "   stochastic-k-15  stochastic-d-15  stochastic-kd-15  volumenrelativo  \\\n",
       "0              NaN              NaN               NaN         0.919758   \n",
       "1              NaN              NaN               NaN         1.110440   \n",
       "2              NaN              NaN               NaN         0.889560   \n",
       "3              NaN              NaN               NaN         1.497843   \n",
       "4              NaN              NaN               NaN         1.188956   \n",
       "\n",
       "       diff  INCREMENTO  TARGET  \n",
       "0 -1.900001   -9.664295       0  \n",
       "1 -1.379999   -7.247895       0  \n",
       "2 -0.930000   -5.201344       0  \n",
       "3 -0.360000   -2.177856       0  \n",
       "4 -0.120000   -0.758054       0  \n",
       "\n",
       "[5 rows x 1285 columns]"
      ]
     },
     "execution_count": 5,
     "metadata": {},
     "output_type": "execute_result"
    }
   ],
   "source": [
    "df.head()"
   ]
  },
  {
   "cell_type": "code",
   "execution_count": 6,
   "id": "e4c5774d-73cc-47eb-8130-433705a54794",
   "metadata": {},
   "outputs": [
    {
     "data": {
      "text/plain": [
       "array([0, 1], dtype=int64)"
      ]
     },
     "execution_count": 6,
     "metadata": {},
     "output_type": "execute_result"
    }
   ],
   "source": [
    "df['TARGET'].unique()"
   ]
  },
  {
   "cell_type": "code",
   "execution_count": 7,
   "id": "f4ac493d-da2a-48d6-8621-9c948e6da67f",
   "metadata": {},
   "outputs": [
    {
     "data": {
      "text/plain": [
       "date                  0\n",
       "open                  0\n",
       "high                  0\n",
       "low                   0\n",
       "close                 0\n",
       "                   ... \n",
       "stochastic-kd-15    587\n",
       "volumenrelativo     215\n",
       "diff                155\n",
       "INCREMENTO          155\n",
       "TARGET                0\n",
       "Length: 1285, dtype: int64"
      ]
     },
     "execution_count": 7,
     "metadata": {},
     "output_type": "execute_result"
    }
   ],
   "source": [
    "df.isna().sum()"
   ]
  },
  {
   "cell_type": "markdown",
   "id": "5440f624-c9d0-4d31-8828-25d7ff4273d5",
   "metadata": {},
   "source": [
    "*Using only those columns which do not have null values.*"
   ]
  },
  {
   "cell_type": "code",
   "execution_count": 8,
   "id": "683eeb89-91a3-41b5-91e8-3c40cf5c7f34",
   "metadata": {},
   "outputs": [],
   "source": [
    "use = [col for col in df.columns if df[col].isna().sum() == 0]"
   ]
  },
  {
   "cell_type": "code",
   "execution_count": 9,
   "id": "b458d4a7-1958-4fb9-9109-8d65d35a3114",
   "metadata": {},
   "outputs": [
    {
     "data": {
      "text/html": [
       "<div>\n",
       "<style scoped>\n",
       "    .dataframe tbody tr th:only-of-type {\n",
       "        vertical-align: middle;\n",
       "    }\n",
       "\n",
       "    .dataframe tbody tr th {\n",
       "        vertical-align: top;\n",
       "    }\n",
       "\n",
       "    .dataframe thead th {\n",
       "        text-align: right;\n",
       "    }\n",
       "</style>\n",
       "<table border=\"1\" class=\"dataframe\">\n",
       "  <thead>\n",
       "    <tr style=\"text-align: right;\">\n",
       "      <th></th>\n",
       "      <th>date</th>\n",
       "      <th>open</th>\n",
       "      <th>high</th>\n",
       "      <th>low</th>\n",
       "      <th>close</th>\n",
       "      <th>adjclose</th>\n",
       "      <th>volume</th>\n",
       "      <th>ticker</th>\n",
       "      <th>feargreed</th>\n",
       "      <th>emaadjclose5</th>\n",
       "      <th>emaadjclose10</th>\n",
       "      <th>emaadjclose15</th>\n",
       "      <th>emaadjclose50</th>\n",
       "      <th>atr5</th>\n",
       "      <th>atr10</th>\n",
       "      <th>atr15</th>\n",
       "      <th>atr20</th>\n",
       "      <th>velaE</th>\n",
       "      <th>velaF</th>\n",
       "      <th>TARGET</th>\n",
       "    </tr>\n",
       "  </thead>\n",
       "  <tbody>\n",
       "    <tr>\n",
       "      <th>0</th>\n",
       "      <td>2022-01-03</td>\n",
       "      <td>17.799999</td>\n",
       "      <td>18.219000</td>\n",
       "      <td>17.500000</td>\n",
       "      <td>17.760000</td>\n",
       "      <td>17.760000</td>\n",
       "      <td>106600</td>\n",
       "      <td>ASLE</td>\n",
       "      <td>29</td>\n",
       "      <td>0.000000</td>\n",
       "      <td>0.000000</td>\n",
       "      <td>0.000000</td>\n",
       "      <td>0.000000</td>\n",
       "      <td>0.719000</td>\n",
       "      <td>0.719000</td>\n",
       "      <td>0.719000</td>\n",
       "      <td>0.719000</td>\n",
       "      <td>-0.039999</td>\n",
       "      <td>-0.039999</td>\n",
       "      <td>0</td>\n",
       "    </tr>\n",
       "    <tr>\n",
       "      <th>1</th>\n",
       "      <td>2022-01-04</td>\n",
       "      <td>17.700001</td>\n",
       "      <td>18.309999</td>\n",
       "      <td>17.620001</td>\n",
       "      <td>17.660000</td>\n",
       "      <td>17.660000</td>\n",
       "      <td>128700</td>\n",
       "      <td>ASLE</td>\n",
       "      <td>23</td>\n",
       "      <td>0.003775</td>\n",
       "      <td>0.004633</td>\n",
       "      <td>0.004955</td>\n",
       "      <td>0.005440</td>\n",
       "      <td>0.713200</td>\n",
       "      <td>0.716100</td>\n",
       "      <td>0.717066</td>\n",
       "      <td>0.717550</td>\n",
       "      <td>-0.040001</td>\n",
       "      <td>-0.040001</td>\n",
       "      <td>0</td>\n",
       "    </tr>\n",
       "    <tr>\n",
       "      <th>2</th>\n",
       "      <td>2022-01-05</td>\n",
       "      <td>17.580000</td>\n",
       "      <td>17.799999</td>\n",
       "      <td>16.910000</td>\n",
       "      <td>16.950001</td>\n",
       "      <td>16.950001</td>\n",
       "      <td>103100</td>\n",
       "      <td>ASLE</td>\n",
       "      <td>24</td>\n",
       "      <td>0.030547</td>\n",
       "      <td>0.038221</td>\n",
       "      <td>0.041169</td>\n",
       "      <td>0.045691</td>\n",
       "      <td>0.748560</td>\n",
       "      <td>0.733490</td>\n",
       "      <td>0.728595</td>\n",
       "      <td>0.726172</td>\n",
       "      <td>-0.629999</td>\n",
       "      <td>-0.629999</td>\n",
       "      <td>0</td>\n",
       "    </tr>\n",
       "    <tr>\n",
       "      <th>3</th>\n",
       "      <td>2022-01-06</td>\n",
       "      <td>16.650000</td>\n",
       "      <td>16.879999</td>\n",
       "      <td>16.139999</td>\n",
       "      <td>16.170000</td>\n",
       "      <td>16.170000</td>\n",
       "      <td>173600</td>\n",
       "      <td>ASLE</td>\n",
       "      <td>15</td>\n",
       "      <td>0.053506</td>\n",
       "      <td>0.072248</td>\n",
       "      <td>0.079968</td>\n",
       "      <td>0.092363</td>\n",
       "      <td>0.760848</td>\n",
       "      <td>0.741141</td>\n",
       "      <td>0.734022</td>\n",
       "      <td>0.730364</td>\n",
       "      <td>-0.480000</td>\n",
       "      <td>-0.480000</td>\n",
       "      <td>0</td>\n",
       "    </tr>\n",
       "    <tr>\n",
       "      <th>4</th>\n",
       "      <td>2022-01-07</td>\n",
       "      <td>16.219999</td>\n",
       "      <td>16.290001</td>\n",
       "      <td>15.630000</td>\n",
       "      <td>15.710000</td>\n",
       "      <td>15.710000</td>\n",
       "      <td>137800</td>\n",
       "      <td>ASLE</td>\n",
       "      <td>18</td>\n",
       "      <td>0.056235</td>\n",
       "      <td>0.084799</td>\n",
       "      <td>0.097642</td>\n",
       "      <td>0.119472</td>\n",
       "      <td>0.740679</td>\n",
       "      <td>0.733027</td>\n",
       "      <td>0.729088</td>\n",
       "      <td>0.726846</td>\n",
       "      <td>-0.509999</td>\n",
       "      <td>-0.509999</td>\n",
       "      <td>0</td>\n",
       "    </tr>\n",
       "  </tbody>\n",
       "</table>\n",
       "</div>"
      ],
      "text/plain": [
       "         date       open       high        low      close   adjclose  volume  \\\n",
       "0  2022-01-03  17.799999  18.219000  17.500000  17.760000  17.760000  106600   \n",
       "1  2022-01-04  17.700001  18.309999  17.620001  17.660000  17.660000  128700   \n",
       "2  2022-01-05  17.580000  17.799999  16.910000  16.950001  16.950001  103100   \n",
       "3  2022-01-06  16.650000  16.879999  16.139999  16.170000  16.170000  173600   \n",
       "4  2022-01-07  16.219999  16.290001  15.630000  15.710000  15.710000  137800   \n",
       "\n",
       "  ticker  feargreed  emaadjclose5  emaadjclose10  emaadjclose15  \\\n",
       "0   ASLE         29      0.000000       0.000000       0.000000   \n",
       "1   ASLE         23      0.003775       0.004633       0.004955   \n",
       "2   ASLE         24      0.030547       0.038221       0.041169   \n",
       "3   ASLE         15      0.053506       0.072248       0.079968   \n",
       "4   ASLE         18      0.056235       0.084799       0.097642   \n",
       "\n",
       "   emaadjclose50      atr5     atr10     atr15     atr20     velaE     velaF  \\\n",
       "0       0.000000  0.719000  0.719000  0.719000  0.719000 -0.039999 -0.039999   \n",
       "1       0.005440  0.713200  0.716100  0.717066  0.717550 -0.040001 -0.040001   \n",
       "2       0.045691  0.748560  0.733490  0.728595  0.726172 -0.629999 -0.629999   \n",
       "3       0.092363  0.760848  0.741141  0.734022  0.730364 -0.480000 -0.480000   \n",
       "4       0.119472  0.740679  0.733027  0.729088  0.726846 -0.509999 -0.509999   \n",
       "\n",
       "   TARGET  \n",
       "0       0  \n",
       "1       0  \n",
       "2       0  \n",
       "3       0  \n",
       "4       0  "
      ]
     },
     "execution_count": 9,
     "metadata": {},
     "output_type": "execute_result"
    }
   ],
   "source": [
    "df1 = df[use]\n",
    "df1.head()"
   ]
  },
  {
   "cell_type": "code",
   "execution_count": 10,
   "id": "841eb88f-9de7-46b6-a093-d648b93fedb4",
   "metadata": {},
   "outputs": [
    {
     "name": "stdout",
     "output_type": "stream",
     "text": [
      "<class 'pandas.core.frame.DataFrame'>\n",
      "RangeIndex: 7781 entries, 0 to 7780\n",
      "Data columns (total 20 columns):\n",
      " #   Column         Non-Null Count  Dtype  \n",
      "---  ------         --------------  -----  \n",
      " 0   date           7781 non-null   object \n",
      " 1   open           7781 non-null   float64\n",
      " 2   high           7781 non-null   float64\n",
      " 3   low            7781 non-null   float64\n",
      " 4   close          7781 non-null   float64\n",
      " 5   adjclose       7781 non-null   float64\n",
      " 6   volume         7781 non-null   int64  \n",
      " 7   ticker         7781 non-null   object \n",
      " 8   feargreed      7781 non-null   int64  \n",
      " 9   emaadjclose5   7781 non-null   float64\n",
      " 10  emaadjclose10  7781 non-null   float64\n",
      " 11  emaadjclose15  7781 non-null   float64\n",
      " 12  emaadjclose50  7781 non-null   float64\n",
      " 13  atr5           7781 non-null   float64\n",
      " 14  atr10          7781 non-null   float64\n",
      " 15  atr15          7781 non-null   float64\n",
      " 16  atr20          7781 non-null   float64\n",
      " 17  velaE          7781 non-null   float64\n",
      " 18  velaF          7781 non-null   float64\n",
      " 19  TARGET         7781 non-null   int64  \n",
      "dtypes: float64(15), int64(3), object(2)\n",
      "memory usage: 1.2+ MB\n"
     ]
    }
   ],
   "source": [
    "df1.info()"
   ]
  },
  {
   "cell_type": "markdown",
   "id": "7628c33b-6c52-4da4-b3ae-9cfeee136458",
   "metadata": {},
   "source": [
    "## Final Preprocessing"
   ]
  },
  {
   "cell_type": "code",
   "execution_count": 11,
   "id": "7b326fbd-3ea4-4239-96ba-286220a38195",
   "metadata": {},
   "outputs": [],
   "source": [
    "X = df1.drop('TARGET', axis = 1)\n",
    "y = df['TARGET']"
   ]
  },
  {
   "cell_type": "code",
   "execution_count": 12,
   "id": "1989eecc-6fe6-4604-8122-7899de68dca8",
   "metadata": {},
   "outputs": [],
   "source": [
    "from sklearn.preprocessing import LabelEncoder\n",
    "le = LabelEncoder()\n",
    "X['date'] = le.fit_transform(X['date'])\n",
    "X['ticker'] = le.fit_transform(X['ticker'])"
   ]
  },
  {
   "cell_type": "code",
   "execution_count": 13,
   "id": "aae10773-bb34-4dec-ab27-3f3185c128b5",
   "metadata": {},
   "outputs": [],
   "source": [
    "from sklearn.model_selection import train_test_split\n",
    "X_train, X_test, y_train, y_test = train_test_split(X, y, test_size = 0.2)"
   ]
  },
  {
   "cell_type": "code",
   "execution_count": 14,
   "id": "21257317-395a-4c68-b1f7-ccfa4b070ff3",
   "metadata": {},
   "outputs": [],
   "source": [
    "num_cols = [col for col in df1.columns if (df[col].dtype == 'int64' or df[col].dtype == 'float64') & (col != 'TARGET')]"
   ]
  },
  {
   "cell_type": "code",
   "execution_count": 15,
   "id": "0d590f7e-9656-419d-b4ca-302c3367a187",
   "metadata": {},
   "outputs": [],
   "source": [
    "from sklearn.preprocessing import StandardScaler\n",
    "sc = StandardScaler()\n",
    "X[num_cols] = sc.fit_transform(X[num_cols])"
   ]
  },
  {
   "cell_type": "markdown",
   "id": "62adf575-3ad6-4267-918b-53b7f9552499",
   "metadata": {},
   "source": [
    "## Modelling"
   ]
  },
  {
   "cell_type": "code",
   "execution_count": 16,
   "id": "3ff3a11d-7936-40b0-8ac6-545d187d07ac",
   "metadata": {},
   "outputs": [
    {
     "data": {
      "text/html": [
       "<style>#sk-container-id-1 {color: black;}#sk-container-id-1 pre{padding: 0;}#sk-container-id-1 div.sk-toggleable {background-color: white;}#sk-container-id-1 label.sk-toggleable__label {cursor: pointer;display: block;width: 100%;margin-bottom: 0;padding: 0.3em;box-sizing: border-box;text-align: center;}#sk-container-id-1 label.sk-toggleable__label-arrow:before {content: \"▸\";float: left;margin-right: 0.25em;color: #696969;}#sk-container-id-1 label.sk-toggleable__label-arrow:hover:before {color: black;}#sk-container-id-1 div.sk-estimator:hover label.sk-toggleable__label-arrow:before {color: black;}#sk-container-id-1 div.sk-toggleable__content {max-height: 0;max-width: 0;overflow: hidden;text-align: left;background-color: #f0f8ff;}#sk-container-id-1 div.sk-toggleable__content pre {margin: 0.2em;color: black;border-radius: 0.25em;background-color: #f0f8ff;}#sk-container-id-1 input.sk-toggleable__control:checked~div.sk-toggleable__content {max-height: 200px;max-width: 100%;overflow: auto;}#sk-container-id-1 input.sk-toggleable__control:checked~label.sk-toggleable__label-arrow:before {content: \"▾\";}#sk-container-id-1 div.sk-estimator input.sk-toggleable__control:checked~label.sk-toggleable__label {background-color: #d4ebff;}#sk-container-id-1 div.sk-label input.sk-toggleable__control:checked~label.sk-toggleable__label {background-color: #d4ebff;}#sk-container-id-1 input.sk-hidden--visually {border: 0;clip: rect(1px 1px 1px 1px);clip: rect(1px, 1px, 1px, 1px);height: 1px;margin: -1px;overflow: hidden;padding: 0;position: absolute;width: 1px;}#sk-container-id-1 div.sk-estimator {font-family: monospace;background-color: #f0f8ff;border: 1px dotted black;border-radius: 0.25em;box-sizing: border-box;margin-bottom: 0.5em;}#sk-container-id-1 div.sk-estimator:hover {background-color: #d4ebff;}#sk-container-id-1 div.sk-parallel-item::after {content: \"\";width: 100%;border-bottom: 1px solid gray;flex-grow: 1;}#sk-container-id-1 div.sk-label:hover label.sk-toggleable__label {background-color: #d4ebff;}#sk-container-id-1 div.sk-serial::before {content: \"\";position: absolute;border-left: 1px solid gray;box-sizing: border-box;top: 0;bottom: 0;left: 50%;z-index: 0;}#sk-container-id-1 div.sk-serial {display: flex;flex-direction: column;align-items: center;background-color: white;padding-right: 0.2em;padding-left: 0.2em;position: relative;}#sk-container-id-1 div.sk-item {position: relative;z-index: 1;}#sk-container-id-1 div.sk-parallel {display: flex;align-items: stretch;justify-content: center;background-color: white;position: relative;}#sk-container-id-1 div.sk-item::before, #sk-container-id-1 div.sk-parallel-item::before {content: \"\";position: absolute;border-left: 1px solid gray;box-sizing: border-box;top: 0;bottom: 0;left: 50%;z-index: -1;}#sk-container-id-1 div.sk-parallel-item {display: flex;flex-direction: column;z-index: 1;position: relative;background-color: white;}#sk-container-id-1 div.sk-parallel-item:first-child::after {align-self: flex-end;width: 50%;}#sk-container-id-1 div.sk-parallel-item:last-child::after {align-self: flex-start;width: 50%;}#sk-container-id-1 div.sk-parallel-item:only-child::after {width: 0;}#sk-container-id-1 div.sk-dashed-wrapped {border: 1px dashed gray;margin: 0 0.4em 0.5em 0.4em;box-sizing: border-box;padding-bottom: 0.4em;background-color: white;}#sk-container-id-1 div.sk-label label {font-family: monospace;font-weight: bold;display: inline-block;line-height: 1.2em;}#sk-container-id-1 div.sk-label-container {text-align: center;}#sk-container-id-1 div.sk-container {/* jupyter's `normalize.less` sets `[hidden] { display: none; }` but bootstrap.min.css set `[hidden] { display: none !important; }` so we also need the `!important` here to be able to override the default hidden behavior on the sphinx rendered scikit-learn.org. See: https://github.com/scikit-learn/scikit-learn/issues/21755 */display: inline-block !important;position: relative;}#sk-container-id-1 div.sk-text-repr-fallback {display: none;}</style><div id=\"sk-container-id-1\" class=\"sk-top-container\"><div class=\"sk-text-repr-fallback\"><pre>LogisticRegression()</pre><b>In a Jupyter environment, please rerun this cell to show the HTML representation or trust the notebook. <br />On GitHub, the HTML representation is unable to render, please try loading this page with nbviewer.org.</b></div><div class=\"sk-container\" hidden><div class=\"sk-item\"><div class=\"sk-estimator sk-toggleable\"><input class=\"sk-toggleable__control sk-hidden--visually\" id=\"sk-estimator-id-1\" type=\"checkbox\" checked><label for=\"sk-estimator-id-1\" class=\"sk-toggleable__label sk-toggleable__label-arrow\">LogisticRegression</label><div class=\"sk-toggleable__content\"><pre>LogisticRegression()</pre></div></div></div></div></div>"
      ],
      "text/plain": [
       "LogisticRegression()"
      ]
     },
     "execution_count": 16,
     "metadata": {},
     "output_type": "execute_result"
    }
   ],
   "source": [
    "model = LogisticRegression()\n",
    "model.fit(X_train, y_train)"
   ]
  },
  {
   "cell_type": "code",
   "execution_count": 17,
   "id": "20276114-c4fa-4860-9472-9825bb75eded",
   "metadata": {},
   "outputs": [
    {
     "data": {
      "text/plain": [
       "0.815028901734104"
      ]
     },
     "execution_count": 17,
     "metadata": {},
     "output_type": "execute_result"
    }
   ],
   "source": [
    "model.score(X_test, y_test)"
   ]
  }
 ],
 "metadata": {
  "kernelspec": {
   "display_name": "Python 3 (ipykernel)",
   "language": "python",
   "name": "python3"
  },
  "language_info": {
   "codemirror_mode": {
    "name": "ipython",
    "version": 3
   },
   "file_extension": ".py",
   "mimetype": "text/x-python",
   "name": "python",
   "nbconvert_exporter": "python",
   "pygments_lexer": "ipython3",
   "version": "3.11.3"
  }
 },
 "nbformat": 4,
 "nbformat_minor": 5
}
